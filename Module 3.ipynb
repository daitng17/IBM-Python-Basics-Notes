{
 "cells": [
  {
   "cell_type": "code",
   "execution_count": 8,
   "metadata": {},
   "outputs": [
    {
     "name": "stdout",
     "output_type": "stream",
     "text": [
      "Age: 18\n",
      "You can buy soft alcoholic drinks\n",
      "Thank you\n"
     ]
    }
   ],
   "source": [
    "#Conditions and Branching\n",
    "\n",
    "age = int(input(\"Age: \"))\n",
    "if(age>18):\n",
    "    print(\"You can buy alcoholic drinks\")\n",
    "elif(age==18):\n",
    "    print(\"You can buy soft alcoholic drinks\")\n",
    "else:\n",
    "    print(\"You can buy soft drinks\")\n",
    "print(\"Thank you\")"
   ]
  },
  {
   "cell_type": "code",
   "execution_count": 94,
   "metadata": {},
   "outputs": [
    {
     "name": "stdout",
     "output_type": "stream",
     "text": [
      "This is Thanh\n"
     ]
    }
   ],
   "source": [
    "x = \"Thanh\"\n",
    "if(x==\"Thanh\"):\n",
    "    print(\"This is Thanh\")\n",
    "else:\n",
    "    print(\"This is not Thanh\")"
   ]
  },
  {
   "cell_type": "code",
   "execution_count": 97,
   "metadata": {},
   "outputs": [
    {
     "name": "stdout",
     "output_type": "stream",
     "text": [
      "Enter a number: 8\n",
      "8 squared is  64\n"
     ]
    }
   ],
   "source": [
    "num = int(input(\"Enter a number: \"))\n",
    "if num < 0:\n",
    "    print(num, \"is negative\")\n",
    "else:\n",
    "    print(num, \"squared is \", num*num)"
   ]
  },
  {
   "cell_type": "code",
   "execution_count": 107,
   "metadata": {},
   "outputs": [
    {
     "name": "stdout",
     "output_type": "stream",
     "text": [
      "Temperature: 30\n",
      "It is hot outside!\n",
      "Take care of your skin\n",
      "Bye\n"
     ]
    }
   ],
   "source": [
    "sunny = False\n",
    "temp = float(input(\"Temperature: \"))\n",
    "if temp > 25:\n",
    "    print(\"It is hot outside!\")\n",
    "    if sunny:\n",
    "        print(\"Wear a cap\")\n",
    "    print(\"Take care of your skin\")\n",
    "print(\"Bye\")"
   ]
  },
  {
   "cell_type": "code",
   "execution_count": 12,
   "metadata": {},
   "outputs": [
    {
     "data": {
      "text/plain": [
       "True"
      ]
     },
     "execution_count": 12,
     "metadata": {},
     "output_type": "execute_result"
    }
   ],
   "source": [
    "i=5\n",
    "i!=0"
   ]
  },
  {
   "cell_type": "code",
   "execution_count": 51,
   "metadata": {},
   "outputs": [
    {
     "name": "stdout",
     "output_type": "stream",
     "text": [
      "This is a\n"
     ]
    }
   ],
   "source": [
    "x=\"a\"\n",
    "if x!=\"a\":\n",
    "    print(\"This is not a\")\n",
    "else:\n",
    "    print(\"This is a\")"
   ]
  },
  {
   "cell_type": "code",
   "execution_count": 17,
   "metadata": {},
   "outputs": [
    {
     "data": {
      "text/plain": [
       "True"
      ]
     },
     "execution_count": 17,
     "metadata": {},
     "output_type": "execute_result"
    }
   ],
   "source": [
    "\"B\" > \"A\"\n",
    "\n",
    "#ASCII code"
   ]
  },
  {
   "cell_type": "code",
   "execution_count": 18,
   "metadata": {},
   "outputs": [],
   "source": [
    "#syntax \n",
    "\n",
    "# if (condition): \n",
    "    # do sth\n",
    "# else:\n",
    "    # do sth else"
   ]
  },
  {
   "cell_type": "code",
   "execution_count": 50,
   "metadata": {},
   "outputs": [
    {
     "name": "stdout",
     "output_type": "stream",
     "text": [
      "You can join this event!\n",
      "\n",
      "Welcome!\n"
     ]
    }
   ],
   "source": [
    "school_year = 1\n",
    "\n",
    "if school_year < 2 or school_year > 5:\n",
    "    print (\"You can join this event!\")\n",
    "    print(\"\")\n",
    "    print(\"Welcome!\")\n",
    "else:\n",
    "    print(\"You cannot join this event.\")"
   ]
  },
  {
   "cell_type": "code",
   "execution_count": 118,
   "metadata": {},
   "outputs": [
    {
     "name": "stdout",
     "output_type": "stream",
     "text": [
      "Eligible\n",
      "\n",
      "Ineligible\n"
     ]
    }
   ],
   "source": [
    "#if expressions\n",
    "\n",
    "income = 1999\n",
    "status = None\n",
    "if income > 1000 and income < 2000:\n",
    "    status = \"Eligible\"\n",
    "else:\n",
    "    status = \"Ineligible\"\n",
    "print(status)\n",
    "print(\"\")\n",
    "\n",
    "# <result> if <condition is met> else <result 2>\n",
    "\n",
    "income = 999\n",
    "status = (\"Eligible\" if income > 1000 and income < 2000 else \"Ineligible\")\n",
    "print(status)"
   ]
  },
  {
   "cell_type": "code",
   "execution_count": 44,
   "metadata": {},
   "outputs": [
    {
     "name": "stdout",
     "output_type": "stream",
     "text": [
      "Not a\n"
     ]
    }
   ],
   "source": [
    "x=\"b\"\n",
    "\n",
    "if not (x==\"a\"):\n",
    "    print(\"Not a\")\n",
    "else:\n",
    "    print(\"a\")"
   ]
  },
  {
   "cell_type": "code",
   "execution_count": 53,
   "metadata": {},
   "outputs": [
    {
     "name": "stdout",
     "output_type": "stream",
     "text": [
      "2020\n"
     ]
    }
   ],
   "source": [
    "year = 2020\n",
    "if year < 1999 or year == 2005 or year == 2020:\n",
    "    print(year)"
   ]
  },
  {
   "cell_type": "code",
   "execution_count": 136,
   "metadata": {},
   "outputs": [
    {
     "name": "stdout",
     "output_type": "stream",
     "text": [
      "range(0, 3)\n",
      "\n",
      "['white', 'white', 'white', 'white', 'white']\n",
      "\n",
      "3\n",
      "4\n",
      "5\n",
      "\n",
      "0\n",
      "1\n",
      "2\n",
      "3\n",
      "4\n",
      "5\n"
     ]
    }
   ],
   "source": [
    "#Loops\n",
    "\n",
    "print(range(3))\n",
    "print(\"\")\n",
    "\n",
    "squares=[\"red\",\"yellow\",\"green\",\"purple\",\"blue\"]\n",
    "for i in range(0,5):\n",
    "    squares[i]=\"white\"\n",
    "print(squares)\n",
    "print(\"\")\n",
    "\n",
    "A=[3,4,5]\n",
    "for i in A:\n",
    "    print(i)\n",
    "print(\"\")\n",
    "\n",
    "#the range function\n",
    "for i in range(0,6):\n",
    "    print(i)"
   ]
  },
  {
   "cell_type": "code",
   "execution_count": 137,
   "metadata": {},
   "outputs": [
    {
     "name": "stdout",
     "output_type": "stream",
     "text": [
      "1999\n",
      "2000\n",
      "2001\n",
      "\n",
      "1999\n",
      "2000\n",
      "2001\n"
     ]
    }
   ],
   "source": [
    "dates=[1999,2000,2001]\n",
    "N = len(dates)\n",
    "for i in range(N):\n",
    "    print(dates[i])\n",
    "print(\"\")\n",
    "for year in dates:\n",
    "    print(year)"
   ]
  },
  {
   "cell_type": "code",
   "execution_count": 78,
   "metadata": {},
   "outputs": [
    {
     "name": "stdout",
     "output_type": "stream",
     "text": [
      "red\n",
      "yellow\n",
      "green\n",
      "\n",
      "APM\n",
      "APS\n",
      "GSM\n"
     ]
    }
   ],
   "source": [
    "squares=[\"red\",\"yellow\",\"green\"]\n",
    "for square in squares:\n",
    "    print(square)\n",
    "print(\"\")\n",
    "colleges=[\"APM\",\"APS\",\"GSM\"]\n",
    "for college in colleges:\n",
    "    print(college)"
   ]
  },
  {
   "cell_type": "code",
   "execution_count": 138,
   "metadata": {},
   "outputs": [
    {
     "name": "stdout",
     "output_type": "stream",
     "text": [
      "Uncategorized  0 is data visualizer\n",
      "Categorized  0 is data sience\n",
      "Uncategorized  1 is data scientist\n",
      "Categorized  1 is data sience\n",
      "Uncategorized  2 is data analyst\n",
      "Categorized  2 is data sience\n"
     ]
    }
   ],
   "source": [
    "jobs=[\"data visualizer\",\"data scientist\",\"data analyst\"]\n",
    "\n",
    "for i in range(0,3):\n",
    "    print(\"Uncategorized \", i, \"is\", jobs[i])\n",
    "    jobs[i]=\"data sience\"\n",
    "    print(\"Categorized \", i, \"is\", jobs[i])"
   ]
  },
  {
   "cell_type": "code",
   "execution_count": 139,
   "metadata": {},
   "outputs": [
    {
     "name": "stdout",
     "output_type": "stream",
     "text": [
      "0 APM\n",
      "1 APS\n",
      "2 GSM\n"
     ]
    }
   ],
   "source": [
    "#enumerate (mention a number of things one by one)\n",
    "\n",
    "colleges=[\"APM\",\"APS\",\"GSM\"]\n",
    "\n",
    "for i,college in enumerate(colleges):\n",
    "    print(i, college)"
   ]
  },
  {
   "cell_type": "code",
   "execution_count": 128,
   "metadata": {},
   "outputs": [
    {
     "name": "stdout",
     "output_type": "stream",
     "text": [
      "1\n",
      "2\n",
      "3\n",
      "4\n",
      "5\n",
      "6\n",
      "7\n",
      "8\n",
      "9\n",
      "10\n",
      "\n",
      "1\n",
      "2\n",
      "3\n"
     ]
    }
   ],
   "source": [
    "#while loops\n",
    "\n",
    "x = 11\n",
    "y = 1\n",
    "while(y<x):\n",
    "    print(y)\n",
    "    y=y+1\n",
    "print(\"\")\n",
    "\n",
    "x=4\n",
    "y=1\n",
    "while(y!=x):\n",
    "    print(y)\n",
    "    y=y+1"
   ]
  },
  {
   "cell_type": "code",
   "execution_count": 153,
   "metadata": {},
   "outputs": [
    {
     "name": "stdout",
     "output_type": "stream",
     "text": [
      "0\n",
      "1\n",
      "2\n",
      "3\n",
      "4\n",
      "It took 5 repetitons to get out of the loop.\n"
     ]
    }
   ],
   "source": [
    "nums = range(0,11)\n",
    "\n",
    "i = 0\n",
    "num = 0\n",
    "\n",
    "while(num != 4):\n",
    "    num = nums[i]\n",
    "    i = i+1\n",
    "    print(num)\n",
    "    \n",
    "print(\"It took\", i ,\"repetitons to get out of the loop.\")"
   ]
  },
  {
   "cell_type": "code",
   "execution_count": 172,
   "metadata": {},
   "outputs": [
    {
     "name": "stdout",
     "output_type": "stream",
     "text": [
      "87\n",
      "98\n",
      "90\n",
      "80\n"
     ]
    }
   ],
   "source": [
    "scores=[87,98,90,80,78,98,92]\n",
    "\n",
    "i = 1\n",
    "\n",
    "score = scores[0]\n",
    "while(score >= 80):\n",
    "    print(score)\n",
    "    score = scores[i]\n",
    "    i = i+1"
   ]
  },
  {
   "cell_type": "code",
   "execution_count": 174,
   "metadata": {},
   "outputs": [
    {
     "name": "stdout",
     "output_type": "stream",
     "text": [
      "['orange', 'orange']\n"
     ]
    }
   ],
   "source": [
    "#write a while loop to copy the strings of a list to another\n",
    "\n",
    "squares = [\"orange\", \"orange\", \"blue\", \"red\", \"orange\"]\n",
    "new_squares = []\n",
    "i = 0\n",
    "while(squares[i]==\"orange\"):\n",
    "    new_squares.append(squares[i])\n",
    "    i=i+1\n",
    "print(new_squares)"
   ]
  },
  {
   "cell_type": "code",
   "execution_count": 190,
   "metadata": {},
   "outputs": [
    {
     "name": "stdout",
     "output_type": "stream",
     "text": [
      "['APM', 'APM']\n"
     ]
    }
   ],
   "source": [
    "majors=[\"APM\", \"APM\", \"APS\", \"APM\"]\n",
    "apm = []\n",
    "i = 0\n",
    "while(majors[i]==\"APM\"):\n",
    "    apm.append(majors[i])\n",
    "    i=i+1\n",
    "print(apm)"
   ]
  },
  {
   "cell_type": "code",
   "execution_count": 184,
   "metadata": {},
   "outputs": [],
   "source": [
    "#Functions\n",
    "\n",
    "def no_work():\n",
    "    pass\n",
    "    return None"
   ]
  },
  {
   "cell_type": "code",
   "execution_count": 203,
   "metadata": {},
   "outputs": [
    {
     "name": "stdout",
     "output_type": "stream",
     "text": [
      "Restaurant 1 Rating 3\n",
      "Restaurant 2 Rating 5\n",
      "Restaurant 3 Rating 3\n",
      "Restaurant 4 Rating 2\n"
     ]
    }
   ],
   "source": [
    "def print_rating(rating):\n",
    "    for i,s in enumerate(rating):\n",
    "        i=i+1\n",
    "        print(\"Restaurant\",i,\"Rating\",s)\n",
    "rating = [3,5,3,2]\n",
    "print_rating(rating)"
   ]
  },
  {
   "cell_type": "code",
   "execution_count": 217,
   "metadata": {},
   "outputs": [
    {
     "name": "stdout",
     "output_type": "stream",
     "text": [
      "incorrect\n"
     ]
    }
   ],
   "source": [
    "def f(a,b):\n",
    "    return\n",
    "a=4\n",
    "b=2\n",
    "\n",
    "if a*b==f(a,b):\n",
    "    print(\"correct\")\n",
    "else:\n",
    "    print(\"incorrect\")"
   ]
  },
  {
   "cell_type": "code",
   "execution_count": 231,
   "metadata": {},
   "outputs": [
    {
     "name": "stdout",
     "output_type": "stream",
     "text": [
      "101\n"
     ]
    }
   ],
   "source": [
    "a=1\n",
    "\n",
    "def add(b):\n",
    "    return a+b #return (exits a function)\n",
    "c=add(100)\n",
    "print(c)"
   ]
  },
  {
   "cell_type": "code",
   "execution_count": 270,
   "metadata": {},
   "outputs": [
    {
     "data": {
      "text/plain": [
       "'haha'"
      ]
     },
     "execution_count": 270,
     "metadata": {},
     "output_type": "execute_result"
    }
   ],
   "source": [
    "def mult(a,b):\n",
    "    c = a*b\n",
    "    return(c)\n",
    "mult(4.4,5.5)\n",
    "mult(2,\"ha\")"
   ]
  },
  {
   "cell_type": "code",
   "execution_count": 256,
   "metadata": {},
   "outputs": [
    {
     "name": "stdout",
     "output_type": "stream",
     "text": [
      "Let's calculate the average of x and y\n",
      "x: 4\n",
      "y: 5\n",
      "Average of 4.0 and 5.0 is 4.5\n",
      "Help on function avg_number in module __main__:\n",
      "\n",
      "avg_number(x, y)\n",
      "\n"
     ]
    }
   ],
   "source": [
    "def avg_number(x,y):\n",
    "    print(\"Average of\", x,\"and\", y, \"is\", (x+y)/2)\n",
    "    \n",
    "print(\"Let's calculate the average of x and y\")\n",
    "avg_number(float(input(\"x: \")),float(input(\"y: \")))\n",
    "\n",
    "help(avg_number)"
   ]
  },
  {
   "cell_type": "code",
   "execution_count": 282,
   "metadata": {},
   "outputs": [
    {
     "name": "stdout",
     "output_type": "stream",
     "text": [
      "3 square + 1 equals 10\n"
     ]
    },
    {
     "data": {
      "text/plain": [
       "10"
      ]
     },
     "execution_count": 282,
     "metadata": {},
     "output_type": "execute_result"
    }
   ],
   "source": [
    "#a local variable is declared inside a fuction\n",
    "#a global variable is declared outside a function\n",
    "\n",
    "def square(a):\n",
    "    b=1\n",
    "    c=a*a+b\n",
    "    print(a, \"square + 1 equals\", c)\n",
    "    return(c)\n",
    "square(3)"
   ]
  },
  {
   "cell_type": "code",
   "execution_count": 284,
   "metadata": {},
   "outputs": [
    {
     "data": {
      "text/plain": [
       "5"
      ]
     },
     "execution_count": 284,
     "metadata": {},
     "output_type": "execute_result"
    }
   ],
   "source": [
    "def equation(a,b):\n",
    "    c = a + b + 2 * a * b -1\n",
    "    if(c<0):\n",
    "        c = 0\n",
    "    else:\n",
    "        c = 5\n",
    "    return(c)\n",
    "equation(4,6)"
   ]
  },
  {
   "cell_type": "code",
   "execution_count": 4,
   "metadata": {},
   "outputs": [
    {
     "name": "stdout",
     "output_type": "stream",
     "text": [
      "50%\n",
      "100%\n"
     ]
    }
   ],
   "source": [
    "def scholarship_scores(a,b,c):\n",
    "    d = (a*2 + b + c)/3\n",
    "    if d >= 7 and a >= 3 and a < 6 and d < 9:\n",
    "        return \"50%\"\n",
    "    elif d >= 9 and a >= 6:\n",
    "        return \"100%\"\n",
    "    else:\n",
    "        return \"Not Pass\"\n",
    "    print(\"Your scores are:\", a, b, c)\n",
    "\n",
    "print(scholarship_scores(5,7,8))\n",
    "print(scholarship_scores(10,10,9))"
   ]
  },
  {
   "cell_type": "code",
   "execution_count": 375,
   "metadata": {},
   "outputs": [
    {
     "name": "stdout",
     "output_type": "stream",
     "text": [
      "a: 8\n",
      "b: 9\n",
      "c: 9\n",
      "\n",
      "Your scores are: | 8 | 9 | 9 |\n",
      "You got 100%\n"
     ]
    }
   ],
   "source": [
    "def scholarship_scores(a,b,c):\n",
    "    print(\"\")\n",
    "    print(\"Your scores are:\",\"|\", a,\"|\", b,\"|\", c,\"|\")\n",
    "    d = (a*2 + b + c)/3\n",
    "    if d >= 7 and a >= 3 and a < 6 and d < 9:\n",
    "        print(\"You got 50%\")\n",
    "    elif d >= 9 and a >= 6:\n",
    "        print(\"You got 100%\")\n",
    "    else:\n",
    "        print(\"Not Pass\")\n",
    "        \n",
    "scholarship_scores(int(input(\"a: \")),int(input(\"b: \")),int(input(\"c: \")))"
   ]
  },
  {
   "cell_type": "code",
   "execution_count": 376,
   "metadata": {},
   "outputs": [
    {
     "name": "stdout",
     "output_type": "stream",
     "text": [
      "APM\n",
      "APS\n",
      "GSM\n"
     ]
    }
   ],
   "source": [
    "###### print the list using for loop\n",
    "\n",
    "def print_list(the_list):\n",
    "    for element in the_list:\n",
    "        print(element)\n",
    "print_list([\"APM\",\"APS\",\"GSM\"])"
   ]
  },
  {
   "cell_type": "code",
   "execution_count": 361,
   "metadata": {},
   "outputs": [
    {
     "name": "stdout",
     "output_type": "stream",
     "text": [
      "Watch it! The rating is 9\n"
     ]
    }
   ],
   "source": [
    "#setting a threshold - movie rating\n",
    "\n",
    "def movie_rating(rating=7):\n",
    "    if(rating<=7):\n",
    "        print(\"Don't watch it! The rating is\", rating)\n",
    "    else:\n",
    "        print(\"Watch it! The rating is\", rating)\n",
    "movie_rating(9)"
   ]
  },
  {
   "cell_type": "code",
   "execution_count": 364,
   "metadata": {},
   "outputs": [
    {
     "name": "stdout",
     "output_type": "stream",
     "text": [
      "APM is a major\n",
      "APS is a major\n"
     ]
    }
   ],
   "source": [
    "major = \"APM\"\n",
    "def printer1(major):\n",
    "    global internal_var #create global variables from within a function\n",
    "    internal_var = \"APS\"\n",
    "    print(major,\"is a major\")\n",
    "    \n",
    "printer1(major)\n",
    "printer1(internal_var)"
   ]
  },
  {
   "cell_type": "code",
   "execution_count": 370,
   "metadata": {},
   "outputs": [
    {
     "name": "stdout",
     "output_type": "stream",
     "text": [
      "APS is a major\n",
      "Don't watch it! The rating is 2\n"
     ]
    }
   ],
   "source": [
    "printer1(internal_var)\n",
    "movie_rating(2)"
   ]
  },
  {
   "cell_type": "markdown",
   "metadata": {},
   "source": [
    "Objects and Classes\n",
    "\n",
    "A class or type's methods are functions that every instance of that class or type provides.\n",
    "\n",
    "Class = data attributes + methods"
   ]
  },
  {
   "cell_type": "code",
   "execution_count": 394,
   "metadata": {},
   "outputs": [
    {
     "name": "stdout",
     "output_type": "stream",
     "text": [
      "Thanh\n"
     ]
    }
   ],
   "source": [
    "class person:\n",
    "    def __init__(self,name,age):\n",
    "        self.name = name\n",
    "        self.age = age\n",
    "        \n",
    "p1 = person(\"Thanh\", 21)\n",
    "\n",
    "print(p1.name)"
   ]
  },
  {
   "cell_type": "code",
   "execution_count": 3,
   "metadata": {},
   "outputs": [
    {
     "name": "stdout",
     "output_type": "stream",
     "text": [
      "\n",
      "make:  Porsche\n",
      "color:  black\n",
      "year:  2019\n",
      "number of owners: 0\n",
      "\n",
      "make:  BMW\n",
      "color:  white\n",
      "year:  2020\n",
      "number of owners: 0\n"
     ]
    }
   ],
   "source": [
    "class car:\n",
    "    def __init__(self,make,color,year):\n",
    "        self.make=make\n",
    "        self.color=color\n",
    "        self.year=year\n",
    "        self.owner_number=0\n",
    "        \n",
    "    def car_info(self):\n",
    "        print(\"\")\n",
    "        print(\"make: \", self.make)\n",
    "        print(\"color: \", self.color)\n",
    "        print(\"year: \", self.year)\n",
    "        print(\"number of owners:\",self.owner_number)\n",
    "    \n",
    "        \n",
    "car1 = car(\"Porsche\",\"black\",\"2019\")\n",
    "car2 = car(\"BMW\",\"white\",\"2020\")\n",
    "\n",
    "car1.car_info()\n",
    "car2.car_info()"
   ]
  },
  {
   "cell_type": "code",
   "execution_count": 10,
   "metadata": {},
   "outputs": [
    {
     "name": "stdout",
     "output_type": "stream",
     "text": [
      "10\n",
      "red\n"
     ]
    },
    {
     "data": {
      "image/png": "[encoded data removed]",
      "text/plain": [
       "<Figure size 432x288 with 1 Axes>"
      ]
     },
     "metadata": {
      "needs_background": "light"
     },
     "output_type": "display_data"
    },
    {
     "ename": "NameError",
     "evalue": "name 'add_radius' is not defined",
     "output_type": "error",
     "traceback": [
      "\u001b[0;31m---------------------------------------------------------------------------\u001b[0m",
      "\u001b[0;31mNameError\u001b[0m                                 Traceback (most recent call last)",
      "\u001b[0;32m<ipython-input-10-b9460da24c01>\u001b[0m in \u001b[0;36m<module>\u001b[0;34m\u001b[0m\n\u001b[1;32m     26\u001b[0m \u001b[0mprint\u001b[0m\u001b[0;34m(\u001b[0m\u001b[0mred_circle\u001b[0m\u001b[0;34m.\u001b[0m\u001b[0mcolor\u001b[0m\u001b[0;34m)\u001b[0m\u001b[0;34m\u001b[0m\u001b[0;34m\u001b[0m\u001b[0m\n\u001b[1;32m     27\u001b[0m \u001b[0mred_circle\u001b[0m\u001b[0;34m.\u001b[0m\u001b[0mdrawCircle\u001b[0m\u001b[0;34m(\u001b[0m\u001b[0;34m)\u001b[0m\u001b[0;34m\u001b[0m\u001b[0;34m\u001b[0m\u001b[0m\n\u001b[0;32m---> 28\u001b[0;31m \u001b[0madd_radius\u001b[0m\u001b[0;34m(\u001b[0m\u001b[0mred_circle\u001b[0m\u001b[0;34m,\u001b[0m \u001b[0;36m4\u001b[0m\u001b[0;34m)\u001b[0m\u001b[0;34m\u001b[0m\u001b[0;34m\u001b[0m\u001b[0m\n\u001b[0m",
      "\u001b[0;31mNameError\u001b[0m: name 'add_radius' is not defined"
     ]
    }
   ],
   "source": [
    "#Import the library\n",
    "\n",
    "import matplotlib.pyplot as plt\n",
    "%matplotlib inline\n",
    "\n",
    "class circle(object):\n",
    "    \n",
    "    def __init__(self,radius,color):\n",
    "        self.radius=radius\n",
    "        self.color=color\n",
    "    \n",
    "    def add_radius(self,r):\n",
    "        self.radius=self.radius+r\n",
    "        return(self.radius)\n",
    "    \n",
    "    def drawCircle(self):\n",
    "        plt.gca().add_patch(plt.Circle((0,0),radius=self.radius, fc=self.color))\n",
    "        plt.axis(\"scaled\")\n",
    "        plt.show()\n",
    "\n",
    "red_circle = circle(10, \"red\")\n",
    "\n",
    "# dir(red_circle) the methods can be used on the object\n",
    "\n",
    "print(red_circle.radius)\n",
    "print(red_circle.color)\n",
    "red_circle.drawCircle()\n",
    "add_radius(red_circle, 4)"
   ]
  },
  {
   "cell_type": "code",
   "execution_count": 11,
   "metadata": {},
   "outputs": [
    {
     "data": {
      "image/png": "[encoded data removed]",
      "text/plain": [
       "<Figure size 432x288 with 1 Axes>"
      ]
     },
     "metadata": {
      "needs_background": "light"
     },
     "output_type": "display_data"
    }
   ],
   "source": [
    "blue_circle = circle(2, \"blue\")\n",
    "blue_circle.drawCircle()\n"
   ]
  },
  {
   "cell_type": "code",
   "execution_count": 12,
   "metadata": {},
   "outputs": [
    {
     "name": "stdout",
     "output_type": "stream",
     "text": [
      "Hi\n",
      "Mike\n"
     ]
    }
   ],
   "source": [
    "x = 1\n",
    "if(x!=1):\n",
    "    print(\"Hello\")\n",
    "else:\n",
    "    print(\"Hi\")\n",
    "print(\"Mike\")"
   ]
  },
  {
   "cell_type": "code",
   "execution_count": 13,
   "metadata": {},
   "outputs": [
    {
     "name": "stdout",
     "output_type": "stream",
     "text": [
      "11\n",
      "22\n",
      "33\n"
     ]
    }
   ],
   "source": [
    "A=[\"1\",\"2\",\"3\"]\n",
    "for a in A:\n",
    "    print(2*a)"
   ]
  },
  {
   "cell_type": "code",
   "execution_count": 17,
   "metadata": {},
   "outputs": [
    {
     "data": {
      "text/plain": [
       "1"
      ]
     },
     "execution_count": 17,
     "metadata": {},
     "output_type": "execute_result"
    }
   ],
   "source": [
    "def d(x):\n",
    "    if x==0:\n",
    "        y=1;\n",
    "    else:\n",
    "        y=0;\n",
    "    return(y)\n",
    "d(0)"
   ]
  },
  {
   "cell_type": "code",
   "execution_count": 30,
   "metadata": {},
   "outputs": [
    {
     "ename": "AttributeError",
     "evalue": "'list' object has no attribute 'sorted'",
     "output_type": "error",
     "traceback": [
      "\u001b[0;31m---------------------------------------------------------------------------\u001b[0m",
      "\u001b[0;31mAttributeError\u001b[0m                            Traceback (most recent call last)",
      "\u001b[0;32m<ipython-input-30-f157baba3630>\u001b[0m in \u001b[0;36m<module>\u001b[0;34m\u001b[0m\n\u001b[1;32m      1\u001b[0m \u001b[0mb\u001b[0m \u001b[0;34m=\u001b[0m \u001b[0;34m[\u001b[0m\u001b[0;36m3\u001b[0m\u001b[0;34m,\u001b[0m\u001b[0;36m4\u001b[0m\u001b[0;34m,\u001b[0m\u001b[0;36m9\u001b[0m\u001b[0;34m,\u001b[0m\u001b[0;36m5\u001b[0m\u001b[0;34m,\u001b[0m\u001b[0;36m7\u001b[0m\u001b[0;34m,\u001b[0m\u001b[0;36m8\u001b[0m\u001b[0;34m]\u001b[0m\u001b[0;34m\u001b[0m\u001b[0;34m\u001b[0m\u001b[0m\n\u001b[0;32m----> 2\u001b[0;31m \u001b[0mb\u001b[0m\u001b[0;34m.\u001b[0m\u001b[0msorted\u001b[0m\u001b[0;34m(\u001b[0m\u001b[0;34m)\u001b[0m\u001b[0;34m\u001b[0m\u001b[0;34m\u001b[0m\u001b[0m\n\u001b[0m",
      "\u001b[0;31mAttributeError\u001b[0m: 'list' object has no attribute 'sorted'"
     ]
    }
   ],
   "source": [
    "b = [3,4,9,5,7,8]\n",
    "b.sort()"
   ]
  },
  {
   "cell_type": "code",
   "execution_count": null,
   "metadata": {},
   "outputs": [],
   "source": []
  }
 ],
 "metadata": {
  "kernelspec": {
   "display_name": "Python 3",
   "language": "python",
   "name": "python3"
  },
  "language_info": {
   "codemirror_mode": {
    "name": "ipython",
    "version": 3
   },
   "file_extension": ".py",
   "mimetype": "text/x-python",
   "name": "python",
   "nbconvert_exporter": "python",
   "pygments_lexer": "ipython3",
   "version": "3.7.6"
  }
 },
 "nbformat": 4,
 "nbformat_minor": 2
}
