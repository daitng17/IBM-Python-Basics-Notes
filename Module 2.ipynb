{
 "cells": [
  {
   "cell_type": "code",
   "execution_count": 5,
   "metadata": {},
   "outputs": [
    {
     "name": "stdout",
     "output_type": "stream",
     "text": [
      "<class 'tuple'>\n",
      "motor\n",
      "('motor', 18, 2, 99, 10.0, 'car', 100)\n",
      "('motor', 18, 2)\n"
     ]
    }
   ],
   "source": [
    "#Tuples\n",
    "\n",
    "tuple1 = (\"motor\",18,2,99,10.0)\n",
    "print(type(tuple1))\n",
    "print(tuple1[0])\n",
    "\n",
    "#can concatenate tuples\n",
    "tuple2 = tuple1 + (\"car\", 100)\n",
    "print(tuple2)\n",
    "print(tuple2[0:3]) #<- the last index is 1 larger than the length\n"
   ]
  },
  {
   "cell_type": "code",
   "execution_count": 8,
   "metadata": {},
   "outputs": [
    {
     "name": "stdout",
     "output_type": "stream",
     "text": [
      "[0, 2, 3, 5, 5, 6, 7, 9, 23, 24]\n"
     ]
    }
   ],
   "source": [
    "#immutable\n",
    "\n",
    "ratings = (3,5,7,23,5,9,24,6,2,0)\n",
    "ratings_sorted = sorted(ratings)\n",
    "print(ratings_sorted)"
   ]
  },
  {
   "cell_type": "code",
   "execution_count": 16,
   "metadata": {},
   "outputs": [
    {
     "name": "stdout",
     "output_type": "stream",
     "text": [
      "(18, 2, ('motor', 'tech'), (19, 99), ('swimming', (1, 2)))\n",
      "('motor', 'tech')\n",
      "tech\n"
     ]
    }
   ],
   "source": [
    "#nesting\n",
    "\n",
    "tuple = (18,2,(\"motor\",\"tech\"),(19,99),(\"swimming\",(1,2)))\n",
    "print(tuple)\n",
    "print(tuple[2])\n",
    "print(tuple[2][1])"
   ]
  },
  {
   "cell_type": "code",
   "execution_count": 5,
   "metadata": {},
   "outputs": [
    {
     "name": "stdout",
     "output_type": "stream",
     "text": [
      "['Thanh', 18, 2, 19.99]\n",
      "<class 'list'>\n",
      "Thanh\n",
      "19.99\n",
      "\n",
      "\n",
      "[2, 19.99]\n",
      "['Thanh', 18, 2, 19.99, ['a', 'b'], 'Diep', 9, 11, 19.99]\n"
     ]
    }
   ],
   "source": [
    "#Lists\n",
    "\n",
    "l = [\"Thanh\", 18, 2, 19.99]\n",
    "print(l)\n",
    "print(type(l))\n",
    "print(l[0])\n",
    "print(l[-1])\n",
    "print(\"\")\n",
    "l.append([\"a\",\"b\"])\n",
    "\n",
    "print(\"\")\n",
    "\n",
    "#slicing\n",
    "\n",
    "print(l[2:4])\n",
    "\n",
    "#concatenate by adding\n",
    "#mutable \n",
    "\n",
    "l.extend([\"Diep\", 9, 11, 19.99])\n",
    "print(l)"
   ]
  },
  {
   "cell_type": "code",
   "execution_count": 4,
   "metadata": {},
   "outputs": [],
   "source": [
    "l = [\"Apple\", 2020]\n",
    "l.extend([\"Google\", 2021])\n",
    "\n",
    "l.append([\"IBM\", 2022]) #append (add sth to the end of a written doc)\n",
    "\n",
    "#the list changes every time we apply a method\n"
   ]
  },
  {
   "cell_type": "code",
   "execution_count": 82,
   "metadata": {},
   "outputs": [
    {
     "name": "stdout",
     "output_type": "stream",
     "text": [
      "['IBM', 'LINE']\n"
     ]
    }
   ],
   "source": [
    "l = [\"IBM\", \"LINE\", \"Saibu Gas\"]\n",
    "l[2] = \"Apple\"\n",
    "del(l[2])\n",
    "print(l)"
   ]
  },
  {
   "cell_type": "code",
   "execution_count": 58,
   "metadata": {},
   "outputs": [
    {
     "data": {
      "text/plain": [
       "['A', 'B', 'C', 'D']"
      ]
     },
     "execution_count": 58,
     "metadata": {},
     "output_type": "execute_result"
    }
   ],
   "source": [
    "\"A,B,C,D\".split(\",\")"
   ]
  },
  {
   "cell_type": "code",
   "execution_count": 66,
   "metadata": {},
   "outputs": [
    {
     "name": "stdout",
     "output_type": "stream",
     "text": [
      "['IBM', 'Apple', 'Google', 'LINE']\n",
      "['IBM', 'Apple', 'Google', 'LINE']\n",
      "Help on list object:\n",
      "\n",
      "class list(object)\n",
      " |  list(iterable=(), /)\n",
      " |  \n",
      " |  Built-in mutable sequence.\n",
      " |  \n",
      " |  If no argument is given, the constructor creates a new empty list.\n",
      " |  The argument must be an iterable if specified.\n",
      " |  \n",
      " |  Methods defined here:\n",
      " |  \n",
      " |  __add__(self, value, /)\n",
      " |      Return self+value.\n",
      " |  \n",
      " |  __contains__(self, key, /)\n",
      " |      Return key in self.\n",
      " |  \n",
      " |  __delitem__(self, key, /)\n",
      " |      Delete self[key].\n",
      " |  \n",
      " |  __eq__(self, value, /)\n",
      " |      Return self==value.\n",
      " |  \n",
      " |  __ge__(self, value, /)\n",
      " |      Return self>=value.\n",
      " |  \n",
      " |  __getattribute__(self, name, /)\n",
      " |      Return getattr(self, name).\n",
      " |  \n",
      " |  __getitem__(...)\n",
      " |      x.__getitem__(y) <==> x[y]\n",
      " |  \n",
      " |  __gt__(self, value, /)\n",
      " |      Return self>value.\n",
      " |  \n",
      " |  __iadd__(self, value, /)\n",
      " |      Implement self+=value.\n",
      " |  \n",
      " |  __imul__(self, value, /)\n",
      " |      Implement self*=value.\n",
      " |  \n",
      " |  __init__(self, /, *args, **kwargs)\n",
      " |      Initialize self.  See help(type(self)) for accurate signature.\n",
      " |  \n",
      " |  __iter__(self, /)\n",
      " |      Implement iter(self).\n",
      " |  \n",
      " |  __le__(self, value, /)\n",
      " |      Return self<=value.\n",
      " |  \n",
      " |  __len__(self, /)\n",
      " |      Return len(self).\n",
      " |  \n",
      " |  __lt__(self, value, /)\n",
      " |      Return self<value.\n",
      " |  \n",
      " |  __mul__(self, value, /)\n",
      " |      Return self*value.\n",
      " |  \n",
      " |  __ne__(self, value, /)\n",
      " |      Return self!=value.\n",
      " |  \n",
      " |  __repr__(self, /)\n",
      " |      Return repr(self).\n",
      " |  \n",
      " |  __reversed__(self, /)\n",
      " |      Return a reverse iterator over the list.\n",
      " |  \n",
      " |  __rmul__(self, value, /)\n",
      " |      Return value*self.\n",
      " |  \n",
      " |  __setitem__(self, key, value, /)\n",
      " |      Set self[key] to value.\n",
      " |  \n",
      " |  __sizeof__(self, /)\n",
      " |      Return the size of the list in memory, in bytes.\n",
      " |  \n",
      " |  append(self, object, /)\n",
      " |      Append object to the end of the list.\n",
      " |  \n",
      " |  clear(self, /)\n",
      " |      Remove all items from list.\n",
      " |  \n",
      " |  copy(self, /)\n",
      " |      Return a shallow copy of the list.\n",
      " |  \n",
      " |  count(self, value, /)\n",
      " |      Return number of occurrences of value.\n",
      " |  \n",
      " |  extend(self, iterable, /)\n",
      " |      Extend list by appending elements from the iterable.\n",
      " |  \n",
      " |  index(self, value, start=0, stop=9223372036854775807, /)\n",
      " |      Return first index of value.\n",
      " |      \n",
      " |      Raises ValueError if the value is not present.\n",
      " |  \n",
      " |  insert(self, index, object, /)\n",
      " |      Insert object before index.\n",
      " |  \n",
      " |  pop(self, index=-1, /)\n",
      " |      Remove and return item at index (default last).\n",
      " |      \n",
      " |      Raises IndexError if list is empty or index is out of range.\n",
      " |  \n",
      " |  remove(self, value, /)\n",
      " |      Remove first occurrence of value.\n",
      " |      \n",
      " |      Raises ValueError if the value is not present.\n",
      " |  \n",
      " |  reverse(self, /)\n",
      " |      Reverse *IN PLACE*.\n",
      " |  \n",
      " |  sort(self, /, *, key=None, reverse=False)\n",
      " |      Stable sort *IN PLACE*.\n",
      " |  \n",
      " |  ----------------------------------------------------------------------\n",
      " |  Static methods defined here:\n",
      " |  \n",
      " |  __new__(*args, **kwargs) from builtins.type\n",
      " |      Create and return a new object.  See help(type) for accurate signature.\n",
      " |  \n",
      " |  ----------------------------------------------------------------------\n",
      " |  Data and other attributes defined here:\n",
      " |  \n",
      " |  __hash__ = None\n",
      "\n"
     ]
    }
   ],
   "source": [
    "#clone\n",
    "\n",
    "companies = [\"IBM\", \"Apple\", \"Google\", \"LINE\"]\n",
    "print(companies)\n",
    "prefer_companies = companies[:]\n",
    "print(prefer_companies)\n",
    "help(companies)"
   ]
  },
  {
   "cell_type": "code",
   "execution_count": 68,
   "metadata": {},
   "outputs": [
    {
     "data": {
      "text/plain": [
       "['b', 'c']"
      ]
     },
     "execution_count": 68,
     "metadata": {},
     "output_type": "execute_result"
    }
   ],
   "source": [
    "B=[\"a\",\"b\",\"c\"]\n",
    "B[1:]"
   ]
  },
  {
   "cell_type": "code",
   "execution_count": 78,
   "metadata": {},
   "outputs": [
    {
     "name": "stdout",
     "output_type": "stream",
     "text": [
      "6\n"
     ]
    },
    {
     "data": {
      "text/plain": [
       "5"
      ]
     },
     "execution_count": 78,
     "metadata": {},
     "output_type": "execute_result"
    }
   ],
   "source": [
    "genres_tuple = (\"pop\", \"rock\", \"soul\", \"R&B\", \"disco\", \"jazz\")\n",
    "genres_tuple\n",
    "print(len(genres_tuple))\n",
    "genres_tuple.index(\"jazz\")"
   ]
  },
  {
   "cell_type": "code",
   "execution_count": 80,
   "metadata": {},
   "outputs": [
    {
     "name": "stdout",
     "output_type": "stream",
     "text": [
      "Hobby before 2020: ['reading', 'running', 'gardening']\n",
      "Hobby after 2020: ['reading', 'coding', 'gardening']\n"
     ]
    }
   ],
   "source": [
    "hobby = [\"reading\", \"running\", \"gardening\"]\n",
    "print(\"Hobby before 2020:\", hobby)\n",
    "hobby[1] = \"coding\"\n",
    "print(\"Hobby after 2020:\", hobby)"
   ]
  },
  {
   "cell_type": "code",
   "execution_count": 83,
   "metadata": {},
   "outputs": [
    {
     "name": "stdout",
     "output_type": "stream",
     "text": [
      "Hobby before 2020: ['reading', 'running', 'gardening']\n",
      "Hobby after change: ['reading', 'gardening']\n"
     ]
    }
   ],
   "source": [
    "hobby = [\"reading\", \"running\", \"gardening\"]\n",
    "print(\"Hobby before 2020:\", hobby)\n",
    "del(hobby[1])\n",
    "print(\"Hobby after change:\", hobby)"
   ]
  },
  {
   "cell_type": "code",
   "execution_count": 96,
   "metadata": {},
   "outputs": [
    {
     "data": {
      "text/plain": [
       "{'iphone 7', 'iphone 8', 'iphone X'}"
      ]
     },
     "execution_count": 96,
     "metadata": {},
     "output_type": "execute_result"
    }
   ],
   "source": [
    "#Sets\n",
    "\n",
    "#type of collection\n",
    "#unordered\n",
    "#only have unique elements\n",
    "\n",
    "set1 = {\"iphone 7\", \"iphone 8\", \"iphone X\", \"iphone 7\"}\n",
    "set1"
   ]
  },
  {
   "cell_type": "code",
   "execution_count": 102,
   "metadata": {
    "scrolled": true
   },
   "outputs": [
    {
     "name": "stdout",
     "output_type": "stream",
     "text": [
      "['iphone 7', 'iphone 8', 'iphone X', 'iphone 7']\n"
     ]
    },
    {
     "ename": "TypeError",
     "evalue": "'set' object is not callable",
     "output_type": "error",
     "traceback": [
      "\u001b[0;31m---------------------------------------------------------------------------\u001b[0m",
      "\u001b[0;31mTypeError\u001b[0m                                 Traceback (most recent call last)",
      "\u001b[0;32m<ipython-input-102-66475da52b22>\u001b[0m in \u001b[0;36m<module>\u001b[0;34m\u001b[0m\n\u001b[1;32m      4\u001b[0m \u001b[0mapple\u001b[0m \u001b[0;34m=\u001b[0m \u001b[0;34m[\u001b[0m\u001b[0;34m\"iphone 7\"\u001b[0m\u001b[0;34m,\u001b[0m \u001b[0;34m\"iphone 8\"\u001b[0m\u001b[0;34m,\u001b[0m \u001b[0;34m\"iphone X\"\u001b[0m\u001b[0;34m,\u001b[0m \u001b[0;34m\"iphone 7\"\u001b[0m\u001b[0;34m]\u001b[0m\u001b[0;34m\u001b[0m\u001b[0;34m\u001b[0m\u001b[0m\n\u001b[1;32m      5\u001b[0m \u001b[0mprint\u001b[0m\u001b[0;34m(\u001b[0m\u001b[0mapple\u001b[0m\u001b[0;34m)\u001b[0m\u001b[0;34m\u001b[0m\u001b[0;34m\u001b[0m\u001b[0m\n\u001b[0;32m----> 6\u001b[0;31m \u001b[0mapple_phone\u001b[0m \u001b[0;34m=\u001b[0m \u001b[0mset\u001b[0m\u001b[0;34m(\u001b[0m\u001b[0mapple\u001b[0m\u001b[0;34m)\u001b[0m\u001b[0;34m\u001b[0m\u001b[0;34m\u001b[0m\u001b[0m\n\u001b[0m\u001b[1;32m      7\u001b[0m \u001b[0mprint\u001b[0m\u001b[0;34m(\u001b[0m\u001b[0mapple_phone\u001b[0m\u001b[0;34m)\u001b[0m\u001b[0;34m\u001b[0m\u001b[0;34m\u001b[0m\u001b[0m\n",
      "\u001b[0;31mTypeError\u001b[0m: 'set' object is not callable"
     ]
    }
   ],
   "source": [
    "#convert a list to a set\n",
    "#type-casting\n",
    "\n",
    "apple = [\"iphone 7\", \"iphone 8\", \"iphone X\", \"iphone 7\"]\n",
    "print(apple)\n",
    "apple_phone = set(apple)\n",
    "print(apple_phone)\n",
    "\n",
    "#still normal in VSCode \n",
    "#maybe due to Jupyter Error"
   ]
  },
  {
   "cell_type": "code",
   "execution_count": 107,
   "metadata": {},
   "outputs": [
    {
     "name": "stdout",
     "output_type": "stream",
     "text": [
      "{'LINE', 'IBM', 'FPT', 'Apple'}\n",
      "{'IBM', 'FPT', 'Apple'}\n"
     ]
    },
    {
     "data": {
      "text/plain": [
       "False"
      ]
     },
     "execution_count": 107,
     "metadata": {},
     "output_type": "execute_result"
    }
   ],
   "source": [
    "#set operations\n",
    "\n",
    "A = {\"Apple\", \"IBM\", \"LINE\"}\n",
    "A.add(\"FPT\")\n",
    "print(A)\n",
    "A.remove(\"LINE\")\n",
    "print(A)\n",
    "\"Sony\" in A"
   ]
  },
  {
   "cell_type": "code",
   "execution_count": 129,
   "metadata": {},
   "outputs": [
    {
     "name": "stdout",
     "output_type": "stream",
     "text": [
      "Intersection: {8, 3, 5}\n",
      "Also Intersection: {8, 3, 5}\n",
      "Union: {0, 1, 2, 3, 4, 5, 6, 7, 8, 9}\n",
      "True\n",
      "True\n",
      "False\n",
      "{1, 4, 6, 7}\n"
     ]
    }
   ],
   "source": [
    "#mathematical set operations \n",
    "#intersection\n",
    "set1 = {1,3,5,6,3,4,7,8}\n",
    "set2 = {3,5,8,3,9,0,5,2}\n",
    "set3 = set1&set2\n",
    "print(\"Intersection:\", set3)\n",
    "print(\"Also Intersection:\", set1.intersection(set2))\n",
    "\n",
    "#union\n",
    "set4 = set1.union(set2)\n",
    "print(\"Union:\", set4)\n",
    "\n",
    "#subset\n",
    "print(set3.issubset(set1))\n",
    "\n",
    "#superset\n",
    "print(set2.issuperset(set3))\n",
    "print(set3.issuperset(set2))\n",
    "\n",
    "#difference \n",
    "print(set1.difference(set2)) #find the elements only in set1"
   ]
  },
  {
   "cell_type": "code",
   "execution_count": 142,
   "metadata": {
    "scrolled": true
   },
   "outputs": [
    {
     "name": "stdout",
     "output_type": "stream",
     "text": [
      "good\n",
      "{'anw1': 'good', 'anw2': 'not good', 'anw3': 'so so', 'anw4': 'very good'}\n",
      "{'anw1': 'good', 'anw2': 'not good', 'anw4': 'very good'}\n",
      "Searching: True\n"
     ]
    }
   ],
   "source": [
    "#Dictionaries (key and value)\n",
    "#Keys must be immutable and unique\n",
    "#Values can be immutable, mutable, and duplicates\n",
    "#Separate each pair by a commna\n",
    "\n",
    "dict = {\"anw1\": \"good\", \"anw2\": \"not good\", \"anw3\": \"so so\"}\n",
    "print(dict[\"anw1\"])\n",
    "dict[\"anw4\"]=\"very good\"\n",
    "print(dict)\n",
    "del(dict[\"anw3\"])\n",
    "print(dict)\n",
    "print(\"Searching:\", \"anw1\" in dict)"
   ]
  },
  {
   "cell_type": "code",
   "execution_count": 1,
   "metadata": {},
   "outputs": [
    {
     "name": "stdout",
     "output_type": "stream",
     "text": [
      "dict_keys(['a', 'b', 'c']) dict_values([0, 1, 2])\n"
     ]
    }
   ],
   "source": [
    "D={\"a\":0,\"b\":1,\"c\":2}\n",
    "D.values() #find the values\n",
    "D[\"b\"]\n",
    "print(D.keys(), D.values())"
   ]
  },
  {
   "cell_type": "code",
   "execution_count": 2,
   "metadata": {},
   "outputs": [
    {
     "ename": "NameError",
     "evalue": "name 'L' is not defined",
     "output_type": "error",
     "traceback": [
      "\u001b[0;31m---------------------------------------------------------------------------\u001b[0m",
      "\u001b[0;31mNameError\u001b[0m                                 Traceback (most recent call last)",
      "\u001b[0;32m<ipython-input-2-4878b341278f>\u001b[0m in \u001b[0;36m<module>\u001b[0;34m\u001b[0m\n\u001b[0;32m----> 1\u001b[0;31m \u001b[0mL\u001b[0m\u001b[0;34m.\u001b[0m\u001b[0mappend\u001b[0m\u001b[0;34m(\u001b[0m\u001b[0;34m[\u001b[0m\u001b[0;34m\"a\"\u001b[0m\u001b[0;34m,\u001b[0m\u001b[0;34m\"b\"\u001b[0m\u001b[0;34m]\u001b[0m\u001b[0;34m)\u001b[0m\u001b[0;34m\u001b[0m\u001b[0;34m\u001b[0m\u001b[0m\n\u001b[0m",
      "\u001b[0;31mNameError\u001b[0m: name 'L' is not defined"
     ]
    }
   ],
   "source": [
    "L=\n",
    "L.append([\"a\",\"b\"])"
   ]
  },
  {
   "cell_type": "code",
   "execution_count": null,
   "metadata": {},
   "outputs": [],
   "source": []
  }
 ],
 "metadata": {
  "kernelspec": {
   "display_name": "Python 3",
   "language": "python",
   "name": "python3"
  },
  "language_info": {
   "codemirror_mode": {
    "name": "ipython",
    "version": 3
   },
   "file_extension": ".py",
   "mimetype": "text/x-python",
   "name": "python",
   "nbconvert_exporter": "python",
   "pygments_lexer": "ipython3",
   "version": "3.7.6"
  }
 },
 "nbformat": 4,
 "nbformat_minor": 2
}
